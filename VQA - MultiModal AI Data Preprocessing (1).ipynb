{
 "cells": [
  {
   "cell_type": "code",
   "execution_count": 1,
   "id": "6b69a381",
   "metadata": {},
   "outputs": [],
   "source": [
    "import numpy as np\n",
    "import json\n",
    "import os\n",
    "import pandas as pd\n",
    "import matplotlib\n",
    "import matplotlib.pyplot as plt\n",
    "import warnings\n",
    "warnings.filterwarnings(\"ignore\")\n",
    "import tensorflow as tf\n",
    "import cv2\n",
    "%matplotlib inline"
   ]
  },
  {
   "cell_type": "code",
   "execution_count": 2,
   "id": "ef11d1ac",
   "metadata": {},
   "outputs": [
    {
     "name": "stdout",
     "output_type": "stream",
     "text": [
      "Num GPUs Available:  0\n"
     ]
    }
   ],
   "source": [
    "print(\"Num GPUs Available: \", len(tf.config.list_physical_devices('GPU')))"
   ]
  },
  {
   "cell_type": "code",
   "execution_count": 3,
   "id": "15c2288c",
   "metadata": {},
   "outputs": [
    {
     "data": {
      "text/plain": [
       "'2.9.2'"
      ]
     },
     "execution_count": 3,
     "metadata": {},
     "output_type": "execute_result"
    }
   ],
   "source": [
    "tf.__version__"
   ]
  },
  {
   "cell_type": "markdown",
   "id": "40ec98ea",
   "metadata": {},
   "source": [
    "# Data Preprocessing :"
   ]
  },
  {
   "cell_type": "markdown",
   "id": "3b3f3360",
   "metadata": {},
   "source": [
    "## VQA Data & Annotation -"
   ]
  },
  {
   "cell_type": "code",
   "execution_count": 4,
   "id": "0e28d4a1",
   "metadata": {},
   "outputs": [],
   "source": [
    "def download_vqa():\n",
    "    os.system('wget https://s3.amazonaws.com/cvmlp/vqa/mscoco/vqa/v2_Questions_Train_mscoco.zip -P zip/')\n",
    "    os.system('wget https://s3.amazonaws.com/cvmlp/vqa/mscoco/vqa/v2_Questions_Val_mscoco.zip -P zip/')\n",
    "    os.system('wget https://s3.amazonaws.com/cvmlp/vqa/mscoco/vqa/v2_Questions_Test_mscoco.zip -P zip/')\n",
    "    \n",
    "     # Download the VQA Annotations\n",
    "    os.system('wget https://s3.amazonaws.com/cvmlp/vqa/mscoco/vqa/v2_Annotations_Train_mscoco.zip -P zip/')\n",
    "    os.system('wget https://s3.amazonaws.com/cvmlp/vqa/mscoco/vqa/v2_Annotations_Val_mscoco.zip -P zip/')\n",
    "    \n",
    "      # Unzip the annotations\n",
    "    os.system('unzip zip/v2_Questions_Train_mscoco.zip -d annotations/')\n",
    "    os.system('unzip zip/v2_Questions_Val_mscoco.zip -d annotations/')\n",
    "    os.system('unzip zip/v2_Questions_Test_mscoco.zip -d annotations/')\n",
    "    os.system('unzip zip/v2_Annotations_Train_mscoco.zip -d annotations/')\n",
    "    os.system('unzip zip/v2_Annotations_Val_mscoco.zip -d annotations/')\n",
    "    "
   ]
  },
  {
   "cell_type": "code",
   "execution_count": 5,
   "id": "00943571",
   "metadata": {},
   "outputs": [],
   "source": [
    "#download_vqa()"
   ]
  },
  {
   "cell_type": "markdown",
   "id": "8c94bbbd",
   "metadata": {},
   "source": [
    "## Coco Images -"
   ]
  },
  {
   "cell_type": "code",
   "execution_count": 6,
   "id": "a2b2abd0",
   "metadata": {},
   "outputs": [],
   "source": [
    "def download_images():\n",
    "    os.system('wget http://images.cocodataset.org/zips/train2014.zip -P coco_images/')\n",
    "    os.system('wget http://images.cocodataset.org/zips/val2014.zip -P coco_images/')\n",
    "    os.system('wget http://images.cocodataset.org/zips/test2015.zip -P coco_images/')\n",
    "\n",
    "    # Unzip the coco_images\n",
    "    os.system('unzip coco_images/train2014.zip -d train/')\n",
    "    os.system('unzip coco_images/val2014.zip -d validation/')\n",
    "    os.system('unzip coco_images/test2015.zip -d test/')"
   ]
  },
  {
   "cell_type": "code",
   "execution_count": 7,
   "id": "d49c7041",
   "metadata": {},
   "outputs": [],
   "source": [
    "#download_images()"
   ]
  },
  {
   "cell_type": "code",
   "execution_count": 8,
   "id": "f06ca464",
   "metadata": {},
   "outputs": [
    {
     "data": {
      "text/plain": [
       "['v2_OpenEnded_mscoco_val2014_questions.json',\n",
       " 'v2_mscoco_train2014_annotations.json',\n",
       " 'v2_OpenEnded_mscoco_test-dev2015_questions.json',\n",
       " 'v2_mscoco_val2014_annotations.json',\n",
       " 'v2_OpenEnded_mscoco_test2015_questions.json',\n",
       " 'v2_OpenEnded_mscoco_train2014_questions.json']"
      ]
     },
     "execution_count": 8,
     "metadata": {},
     "output_type": "execute_result"
    }
   ],
   "source": [
    "os.listdir(\"/Users/prateeksha/annotations/\")"
   ]
  },
  {
   "cell_type": "code",
   "execution_count": 9,
   "id": "2ac5ecc0",
   "metadata": {},
   "outputs": [],
   "source": [
    "#os.listdir(\"/Users/Rajnish/train/train2014/\")"
   ]
  },
  {
   "cell_type": "code",
   "execution_count": 10,
   "id": "56c46c93",
   "metadata": {},
   "outputs": [],
   "source": [
    "#os.listdir(\"/Users/Rajnish/validation/val2014/\")"
   ]
  },
  {
   "cell_type": "code",
   "execution_count": 11,
   "id": "0263a58b",
   "metadata": {},
   "outputs": [],
   "source": [
    "#os.listdir(\"/Users/Rajnish/test/test2015\")"
   ]
  },
  {
   "cell_type": "markdown",
   "id": "72f732ef",
   "metadata": {},
   "source": [
    "## Training Dataset Preprocessing :"
   ]
  },
  {
   "cell_type": "code",
   "execution_count": 12,
   "id": "5265ca68",
   "metadata": {},
   "outputs": [
    {
     "name": "stdout",
     "output_type": "stream",
     "text": [
      "Total no. of training question are 443757\n",
      "Total no. of training answers are 443757\n",
      "Total no. of training images are 82783\n"
     ]
    }
   ],
   "source": [
    "from os import listdir\n",
    "\n",
    "train_ques = json.load(open('annotations/v2_OpenEnded_mscoco_train2014_questions.json', 'r'))\n",
    "train_ans = json.load(open('annotations/v2_mscoco_train2014_annotations.json', 'r'))\n",
    "train_img_path = 'train/train2014'\n",
    "train_images= listdir(train_img_path)\n",
    "\n",
    "print(\"Total no. of training question are\",len(train_ques['questions']))\n",
    "print(\"Total no. of training answers are\",len(train_ans['annotations']))\n",
    "print(\"Total no. of training images are\",len(train_images))"
   ]
  },
  {
   "cell_type": "code",
   "execution_count": 13,
   "id": "fca477a4",
   "metadata": {},
   "outputs": [
    {
     "data": {
      "text/plain": [
       "{'image_id': 458752,\n",
       " 'question': 'What is this photo taken looking through?',\n",
       " 'question_id': 458752000}"
      ]
     },
     "execution_count": 13,
     "metadata": {},
     "output_type": "execute_result"
    }
   ],
   "source": [
    "train_ques['questions'][0]"
   ]
  },
  {
   "cell_type": "code",
   "execution_count": 14,
   "id": "a8be457f",
   "metadata": {},
   "outputs": [
    {
     "data": {
      "text/plain": [
       "{'question_type': 'what is this',\n",
       " 'multiple_choice_answer': 'net',\n",
       " 'answers': [{'answer': 'net', 'answer_confidence': 'maybe', 'answer_id': 1},\n",
       "  {'answer': 'net', 'answer_confidence': 'yes', 'answer_id': 2},\n",
       "  {'answer': 'net', 'answer_confidence': 'yes', 'answer_id': 3},\n",
       "  {'answer': 'netting', 'answer_confidence': 'yes', 'answer_id': 4},\n",
       "  {'answer': 'net', 'answer_confidence': 'yes', 'answer_id': 5},\n",
       "  {'answer': 'net', 'answer_confidence': 'yes', 'answer_id': 6},\n",
       "  {'answer': 'mesh', 'answer_confidence': 'maybe', 'answer_id': 7},\n",
       "  {'answer': 'net', 'answer_confidence': 'yes', 'answer_id': 8},\n",
       "  {'answer': 'net', 'answer_confidence': 'yes', 'answer_id': 9},\n",
       "  {'answer': 'net', 'answer_confidence': 'yes', 'answer_id': 10}],\n",
       " 'image_id': 458752,\n",
       " 'answer_type': 'other',\n",
       " 'question_id': 458752000}"
      ]
     },
     "execution_count": 14,
     "metadata": {},
     "output_type": "execute_result"
    }
   ],
   "source": [
    "train_ans['annotations'][0]"
   ]
  },
  {
   "cell_type": "code",
   "execution_count": 15,
   "id": "83d9a3d1",
   "metadata": {},
   "outputs": [
    {
     "data": {
      "text/plain": [
       "'COCO_train2014_000000223373.jpg'"
      ]
     },
     "execution_count": 15,
     "metadata": {},
     "output_type": "execute_result"
    }
   ],
   "source": [
    "train_images[0]"
   ]
  },
  {
   "cell_type": "code",
   "execution_count": null,
   "id": "fa7a6e70",
   "metadata": {},
   "outputs": [],
   "source": []
  },
  {
   "cell_type": "code",
   "execution_count": 16,
   "id": "24dd8db4",
   "metadata": {},
   "outputs": [
    {
     "name": "stderr",
     "output_type": "stream",
     "text": [
      "100%|██████████████████████████████| 443757/443757 [00:00<00:00, 1061451.35it/s]\n"
     ]
    }
   ],
   "source": [
    "from tqdm import tqdm\n",
    "# CONVERTING DATA FROM JASON TO PANDAS DATAFRAME\n",
    "training=[]\n",
    "imdir='%s/COCO_%s_%012d.jpg'\n",
    "subtype='train2014'\n",
    "\n",
    "for i in tqdm(range(len(train_ans['annotations']))):\n",
    "    train_answ = train_ans['annotations'][i]['multiple_choice_answer']\n",
    "    train_image_path=imdir%(subtype,subtype,train_ans['annotations'][i]['image_id'])\n",
    "    train_que = train_ques['questions'][i]['question']\n",
    "    train_ques_id = train_ans['annotations'][i]['question_id']\n",
    "    train_image_id = train_ans['annotations'][i]['image_id']\n",
    "\n",
    "    training.append({'Question_ID':train_ques_id,'Image_ID':train_image_id, 'image_path':train_image_path,'Question' : train_que,'Answer':train_answ})"
   ]
  },
  {
   "cell_type": "code",
   "execution_count": 17,
   "id": "0ad0a807",
   "metadata": {},
   "outputs": [
    {
     "data": {
      "text/html": [
       "<div>\n",
       "<style scoped>\n",
       "    .dataframe tbody tr th:only-of-type {\n",
       "        vertical-align: middle;\n",
       "    }\n",
       "\n",
       "    .dataframe tbody tr th {\n",
       "        vertical-align: top;\n",
       "    }\n",
       "\n",
       "    .dataframe thead th {\n",
       "        text-align: right;\n",
       "    }\n",
       "</style>\n",
       "<table border=\"1\" class=\"dataframe\">\n",
       "  <thead>\n",
       "    <tr style=\"text-align: right;\">\n",
       "      <th></th>\n",
       "      <th>Question_ID</th>\n",
       "      <th>Image_ID</th>\n",
       "      <th>image_path</th>\n",
       "      <th>Question</th>\n",
       "      <th>Answer</th>\n",
       "    </tr>\n",
       "  </thead>\n",
       "  <tbody>\n",
       "    <tr>\n",
       "      <th>0</th>\n",
       "      <td>458752000</td>\n",
       "      <td>458752</td>\n",
       "      <td>train2014/COCO_train2014_000000458752.jpg</td>\n",
       "      <td>What is this photo taken looking through?</td>\n",
       "      <td>net</td>\n",
       "    </tr>\n",
       "    <tr>\n",
       "      <th>1</th>\n",
       "      <td>458752001</td>\n",
       "      <td>458752</td>\n",
       "      <td>train2014/COCO_train2014_000000458752.jpg</td>\n",
       "      <td>What position is this man playing?</td>\n",
       "      <td>pitcher</td>\n",
       "    </tr>\n",
       "    <tr>\n",
       "      <th>2</th>\n",
       "      <td>458752002</td>\n",
       "      <td>458752</td>\n",
       "      <td>train2014/COCO_train2014_000000458752.jpg</td>\n",
       "      <td>What color is the players shirt?</td>\n",
       "      <td>orange</td>\n",
       "    </tr>\n",
       "    <tr>\n",
       "      <th>3</th>\n",
       "      <td>458752003</td>\n",
       "      <td>458752</td>\n",
       "      <td>train2014/COCO_train2014_000000458752.jpg</td>\n",
       "      <td>Is this man a professional baseball player?</td>\n",
       "      <td>yes</td>\n",
       "    </tr>\n",
       "    <tr>\n",
       "      <th>4</th>\n",
       "      <td>262146000</td>\n",
       "      <td>262146</td>\n",
       "      <td>train2014/COCO_train2014_000000262146.jpg</td>\n",
       "      <td>What color is the snow?</td>\n",
       "      <td>white</td>\n",
       "    </tr>\n",
       "  </tbody>\n",
       "</table>\n",
       "</div>"
      ],
      "text/plain": [
       "   Question_ID  Image_ID                                 image_path  \\\n",
       "0    458752000    458752  train2014/COCO_train2014_000000458752.jpg   \n",
       "1    458752001    458752  train2014/COCO_train2014_000000458752.jpg   \n",
       "2    458752002    458752  train2014/COCO_train2014_000000458752.jpg   \n",
       "3    458752003    458752  train2014/COCO_train2014_000000458752.jpg   \n",
       "4    262146000    262146  train2014/COCO_train2014_000000262146.jpg   \n",
       "\n",
       "                                      Question   Answer  \n",
       "0    What is this photo taken looking through?      net  \n",
       "1           What position is this man playing?  pitcher  \n",
       "2             What color is the players shirt?   orange  \n",
       "3  Is this man a professional baseball player?      yes  \n",
       "4                      What color is the snow?    white  "
      ]
     },
     "execution_count": 17,
     "metadata": {},
     "output_type": "execute_result"
    }
   ],
   "source": [
    "training_data=pd.DataFrame(training)\n",
    "training_data.head()"
   ]
  },
  {
   "cell_type": "code",
   "execution_count": 18,
   "id": "ba4ec28a",
   "metadata": {},
   "outputs": [
    {
     "data": {
      "text/plain": [
       "(443757, 5)"
      ]
     },
     "execution_count": 18,
     "metadata": {},
     "output_type": "execute_result"
    }
   ],
   "source": [
    "training_data.shape"
   ]
  },
  {
   "cell_type": "markdown",
   "id": "4b549426",
   "metadata": {},
   "source": [
    "## Validation Dataset Preprocessing :"
   ]
  },
  {
   "cell_type": "code",
   "execution_count": 19,
   "id": "7ee997a8",
   "metadata": {},
   "outputs": [
    {
     "name": "stdout",
     "output_type": "stream",
     "text": [
      "Total no. of Validation question are 214354\n",
      "Total no. of  Validation answers are 214354\n",
      "Total no. of Validation images are 40504\n"
     ]
    }
   ],
   "source": [
    "val_ques = json.load(open('annotations/v2_OpenEnded_mscoco_val2014_questions.json', 'r'))\n",
    "val_ans = json.load(open('annotations/v2_mscoco_val2014_annotations.json', 'r'))\n",
    "val_img_path = 'validation/val2014'\n",
    "val_images= listdir(val_img_path)\n",
    "\n",
    "print(\"Total no. of Validation question are\",len(val_ques['questions']))\n",
    "print(\"Total no. of  Validation answers are\",len(val_ans['annotations']))\n",
    "print(\"Total no. of Validation images are\",len(val_images))"
   ]
  },
  {
   "cell_type": "code",
   "execution_count": 20,
   "id": "f9ce0b5c",
   "metadata": {},
   "outputs": [
    {
     "data": {
      "text/plain": [
       "{'image_id': 262148,\n",
       " 'question': 'Where is he looking?',\n",
       " 'question_id': 262148000}"
      ]
     },
     "execution_count": 20,
     "metadata": {},
     "output_type": "execute_result"
    }
   ],
   "source": [
    "val_ques['questions'][0]"
   ]
  },
  {
   "cell_type": "code",
   "execution_count": 21,
   "id": "716160d1",
   "metadata": {},
   "outputs": [
    {
     "data": {
      "text/plain": [
       "{'question_type': 'none of the above',\n",
       " 'multiple_choice_answer': 'down',\n",
       " 'answers': [{'answer': 'down', 'answer_confidence': 'yes', 'answer_id': 1},\n",
       "  {'answer': 'down', 'answer_confidence': 'yes', 'answer_id': 2},\n",
       "  {'answer': 'at table', 'answer_confidence': 'yes', 'answer_id': 3},\n",
       "  {'answer': 'skateboard', 'answer_confidence': 'yes', 'answer_id': 4},\n",
       "  {'answer': 'down', 'answer_confidence': 'yes', 'answer_id': 5},\n",
       "  {'answer': 'table', 'answer_confidence': 'yes', 'answer_id': 6},\n",
       "  {'answer': 'down', 'answer_confidence': 'yes', 'answer_id': 7},\n",
       "  {'answer': 'down', 'answer_confidence': 'yes', 'answer_id': 8},\n",
       "  {'answer': 'down', 'answer_confidence': 'yes', 'answer_id': 9},\n",
       "  {'answer': 'down', 'answer_confidence': 'yes', 'answer_id': 10}],\n",
       " 'image_id': 262148,\n",
       " 'answer_type': 'other',\n",
       " 'question_id': 262148000}"
      ]
     },
     "execution_count": 21,
     "metadata": {},
     "output_type": "execute_result"
    }
   ],
   "source": [
    "val_ans['annotations'][0]"
   ]
  },
  {
   "cell_type": "code",
   "execution_count": 22,
   "id": "ecd1b921",
   "metadata": {},
   "outputs": [
    {
     "data": {
      "text/plain": [
       "'COCO_val2014_000000265550.jpg'"
      ]
     },
     "execution_count": 22,
     "metadata": {},
     "output_type": "execute_result"
    }
   ],
   "source": [
    "val_images[0]"
   ]
  },
  {
   "cell_type": "code",
   "execution_count": 23,
   "id": "74be9732",
   "metadata": {},
   "outputs": [
    {
     "name": "stderr",
     "output_type": "stream",
     "text": [
      "100%|███████████████████████████████| 214354/214354 [00:00<00:00, 849440.67it/s]\n"
     ]
    }
   ],
   "source": [
    "Validation=[]\n",
    "imdir='%s/COCO_%s_%012d.jpg'\n",
    "subtype='val2014'\n",
    "\n",
    "for i in tqdm(range(len(val_ans['annotations']))):\n",
    "    val_answ = val_ans['annotations'][i]['multiple_choice_answer']\n",
    "    val_image_path=imdir%(subtype,subtype,val_ans['annotations'][i]['image_id'])\n",
    "    val_que = val_ques['questions'][i]['question']\n",
    "    val_ques_id = val_ans['annotations'][i]['question_id']\n",
    "    val_image_id = val_ans['annotations'][i]['image_id']\n",
    "\n",
    "    Validation.append({'Question_ID':val_ques_id, 'Image_ID':val_image_id,'image_path':val_image_path,'Question' : val_que,'Answer':val_answ})\n",
    "\n"
   ]
  },
  {
   "cell_type": "code",
   "execution_count": 24,
   "id": "920c3695",
   "metadata": {},
   "outputs": [
    {
     "data": {
      "text/html": [
       "<div>\n",
       "<style scoped>\n",
       "    .dataframe tbody tr th:only-of-type {\n",
       "        vertical-align: middle;\n",
       "    }\n",
       "\n",
       "    .dataframe tbody tr th {\n",
       "        vertical-align: top;\n",
       "    }\n",
       "\n",
       "    .dataframe thead th {\n",
       "        text-align: right;\n",
       "    }\n",
       "</style>\n",
       "<table border=\"1\" class=\"dataframe\">\n",
       "  <thead>\n",
       "    <tr style=\"text-align: right;\">\n",
       "      <th></th>\n",
       "      <th>Question_ID</th>\n",
       "      <th>Image_ID</th>\n",
       "      <th>image_path</th>\n",
       "      <th>Question</th>\n",
       "      <th>Answer</th>\n",
       "    </tr>\n",
       "  </thead>\n",
       "  <tbody>\n",
       "    <tr>\n",
       "      <th>0</th>\n",
       "      <td>262148000</td>\n",
       "      <td>262148</td>\n",
       "      <td>val2014/COCO_val2014_000000262148.jpg</td>\n",
       "      <td>Where is he looking?</td>\n",
       "      <td>down</td>\n",
       "    </tr>\n",
       "    <tr>\n",
       "      <th>1</th>\n",
       "      <td>262148001</td>\n",
       "      <td>262148</td>\n",
       "      <td>val2014/COCO_val2014_000000262148.jpg</td>\n",
       "      <td>What are the people in the background doing?</td>\n",
       "      <td>watching</td>\n",
       "    </tr>\n",
       "    <tr>\n",
       "      <th>2</th>\n",
       "      <td>262148002</td>\n",
       "      <td>262148</td>\n",
       "      <td>val2014/COCO_val2014_000000262148.jpg</td>\n",
       "      <td>What is he on top of?</td>\n",
       "      <td>picnic table</td>\n",
       "    </tr>\n",
       "    <tr>\n",
       "      <th>3</th>\n",
       "      <td>393225000</td>\n",
       "      <td>393225</td>\n",
       "      <td>val2014/COCO_val2014_000000393225.jpg</td>\n",
       "      <td>What website copyrighted the picture?</td>\n",
       "      <td>foodiebakercom</td>\n",
       "    </tr>\n",
       "    <tr>\n",
       "      <th>4</th>\n",
       "      <td>393225001</td>\n",
       "      <td>393225</td>\n",
       "      <td>val2014/COCO_val2014_000000393225.jpg</td>\n",
       "      <td>Is this a creamy soup?</td>\n",
       "      <td>no</td>\n",
       "    </tr>\n",
       "  </tbody>\n",
       "</table>\n",
       "</div>"
      ],
      "text/plain": [
       "   Question_ID  Image_ID                             image_path  \\\n",
       "0    262148000    262148  val2014/COCO_val2014_000000262148.jpg   \n",
       "1    262148001    262148  val2014/COCO_val2014_000000262148.jpg   \n",
       "2    262148002    262148  val2014/COCO_val2014_000000262148.jpg   \n",
       "3    393225000    393225  val2014/COCO_val2014_000000393225.jpg   \n",
       "4    393225001    393225  val2014/COCO_val2014_000000393225.jpg   \n",
       "\n",
       "                                       Question          Answer  \n",
       "0                          Where is he looking?            down  \n",
       "1  What are the people in the background doing?        watching  \n",
       "2                         What is he on top of?    picnic table  \n",
       "3         What website copyrighted the picture?  foodiebakercom  \n",
       "4                        Is this a creamy soup?              no  "
      ]
     },
     "execution_count": 24,
     "metadata": {},
     "output_type": "execute_result"
    }
   ],
   "source": [
    "Validation_data=pd.DataFrame(Validation)\n",
    "Validation_data.head()"
   ]
  },
  {
   "cell_type": "code",
   "execution_count": 25,
   "id": "916de34e",
   "metadata": {},
   "outputs": [
    {
     "data": {
      "text/plain": [
       "(214354, 5)"
      ]
     },
     "execution_count": 25,
     "metadata": {},
     "output_type": "execute_result"
    }
   ],
   "source": [
    "Validation_data.shape"
   ]
  },
  {
   "cell_type": "markdown",
   "id": "a2858524",
   "metadata": {},
   "source": [
    "## Test Dataset Preprocessing  :"
   ]
  },
  {
   "cell_type": "code",
   "execution_count": 26,
   "id": "1750acea",
   "metadata": {},
   "outputs": [
    {
     "name": "stdout",
     "output_type": "stream",
     "text": [
      "Total no. of Test question are 107394\n",
      "Total no. of Test images are 81434\n"
     ]
    }
   ],
   "source": [
    "test_ques = json.load(open('annotations/v2_OpenEnded_mscoco_test-dev2015_questions.json', 'r'))\n",
    "test_img_path = 'test/test2015'\n",
    "test_images= listdir(test_img_path)\n",
    "    \n",
    "print(\"Total no. of Test question are\",len(test_ques['questions']))\n",
    "print(\"Total no. of Test images are\",len(test_images))"
   ]
  },
  {
   "cell_type": "code",
   "execution_count": 27,
   "id": "9db2e1f6",
   "metadata": {},
   "outputs": [
    {
     "data": {
      "text/plain": [
       "{'image_id': 262144,\n",
       " 'question': 'What credit card company is on the banner in the background?',\n",
       " 'question_id': 262144005}"
      ]
     },
     "execution_count": 27,
     "metadata": {},
     "output_type": "execute_result"
    }
   ],
   "source": [
    "test_ques['questions'][0]"
   ]
  },
  {
   "cell_type": "code",
   "execution_count": 28,
   "id": "941cc45c",
   "metadata": {},
   "outputs": [
    {
     "data": {
      "text/plain": [
       "'COCO_test2015_000000209999.jpg'"
      ]
     },
     "execution_count": 28,
     "metadata": {},
     "output_type": "execute_result"
    }
   ],
   "source": [
    "test_images[0]"
   ]
  },
  {
   "cell_type": "code",
   "execution_count": 29,
   "id": "bb55e92a",
   "metadata": {},
   "outputs": [
    {
     "name": "stderr",
     "output_type": "stream",
     "text": [
      "100%|██████████████████████████████| 107394/107394 [00:00<00:00, 1390956.20it/s]\n"
     ]
    }
   ],
   "source": [
    "test = []\n",
    "imdir='%s/COCO_%s_%012d.jpg'\n",
    "subtype = 'test2015'\n",
    "\n",
    "for i in tqdm(range(len(test_ques['questions']))):\n",
    "    test_image_path=imdir%(subtype,subtype,test_ques['questions'][i]['image_id'])\n",
    "    test_que = test_ques['questions'][i]['question']\n",
    "    test_ques_id = test_ques['questions'][i]['question_id']\n",
    "    test_image_id = test_ques['questions'][i]['image_id']\n",
    "\n",
    "    test.append({'Question_ID':test_ques_id,'Image_ID':test_image_id, 'image_path':test_image_path,'Question' : test_que})"
   ]
  },
  {
   "cell_type": "code",
   "execution_count": 30,
   "id": "e17869bf",
   "metadata": {},
   "outputs": [
    {
     "data": {
      "text/html": [
       "<div>\n",
       "<style scoped>\n",
       "    .dataframe tbody tr th:only-of-type {\n",
       "        vertical-align: middle;\n",
       "    }\n",
       "\n",
       "    .dataframe tbody tr th {\n",
       "        vertical-align: top;\n",
       "    }\n",
       "\n",
       "    .dataframe thead th {\n",
       "        text-align: right;\n",
       "    }\n",
       "</style>\n",
       "<table border=\"1\" class=\"dataframe\">\n",
       "  <thead>\n",
       "    <tr style=\"text-align: right;\">\n",
       "      <th></th>\n",
       "      <th>Question_ID</th>\n",
       "      <th>Image_ID</th>\n",
       "      <th>image_path</th>\n",
       "      <th>Question</th>\n",
       "    </tr>\n",
       "  </thead>\n",
       "  <tbody>\n",
       "    <tr>\n",
       "      <th>0</th>\n",
       "      <td>262144005</td>\n",
       "      <td>262144</td>\n",
       "      <td>test2015/COCO_test2015_000000262144.jpg</td>\n",
       "      <td>What credit card company is on the banner in t...</td>\n",
       "    </tr>\n",
       "    <tr>\n",
       "      <th>1</th>\n",
       "      <td>262144003</td>\n",
       "      <td>262144</td>\n",
       "      <td>test2015/COCO_test2015_000000262144.jpg</td>\n",
       "      <td>Is the pitcher wearing a hat?</td>\n",
       "    </tr>\n",
       "    <tr>\n",
       "      <th>2</th>\n",
       "      <td>262144000</td>\n",
       "      <td>262144</td>\n",
       "      <td>test2015/COCO_test2015_000000262144.jpg</td>\n",
       "      <td>Is the ball flying towards the batter?</td>\n",
       "    </tr>\n",
       "    <tr>\n",
       "      <th>3</th>\n",
       "      <td>524289001</td>\n",
       "      <td>524289</td>\n",
       "      <td>test2015/COCO_test2015_000000524289.jpg</td>\n",
       "      <td>Are the horses playing a game?</td>\n",
       "    </tr>\n",
       "    <tr>\n",
       "      <th>4</th>\n",
       "      <td>524289002</td>\n",
       "      <td>524289</td>\n",
       "      <td>test2015/COCO_test2015_000000524289.jpg</td>\n",
       "      <td>What is the color of water in the image?</td>\n",
       "    </tr>\n",
       "  </tbody>\n",
       "</table>\n",
       "</div>"
      ],
      "text/plain": [
       "   Question_ID  Image_ID                               image_path  \\\n",
       "0    262144005    262144  test2015/COCO_test2015_000000262144.jpg   \n",
       "1    262144003    262144  test2015/COCO_test2015_000000262144.jpg   \n",
       "2    262144000    262144  test2015/COCO_test2015_000000262144.jpg   \n",
       "3    524289001    524289  test2015/COCO_test2015_000000524289.jpg   \n",
       "4    524289002    524289  test2015/COCO_test2015_000000524289.jpg   \n",
       "\n",
       "                                            Question  \n",
       "0  What credit card company is on the banner in t...  \n",
       "1                      Is the pitcher wearing a hat?  \n",
       "2             Is the ball flying towards the batter?  \n",
       "3                     Are the horses playing a game?  \n",
       "4           What is the color of water in the image?  "
      ]
     },
     "execution_count": 30,
     "metadata": {},
     "output_type": "execute_result"
    }
   ],
   "source": [
    "test_data=pd.DataFrame(test)\n",
    "test_data.head()"
   ]
  },
  {
   "cell_type": "code",
   "execution_count": 31,
   "id": "0f2007f4",
   "metadata": {},
   "outputs": [
    {
     "data": {
      "text/plain": [
       "(107394, 4)"
      ]
     },
     "execution_count": 31,
     "metadata": {},
     "output_type": "execute_result"
    }
   ],
   "source": [
    "test_data.shape"
   ]
  },
  {
   "cell_type": "markdown",
   "id": "82041f94",
   "metadata": {},
   "source": [
    "# Data Auditing and Exploratory Data Analysis (EDA) :"
   ]
  },
  {
   "cell_type": "code",
   "execution_count": 32,
   "id": "a5cf8092",
   "metadata": {},
   "outputs": [
    {
     "name": "stdout",
     "output_type": "stream",
     "text": [
      "<class 'pandas.core.frame.DataFrame'>\n",
      "RangeIndex: 443757 entries, 0 to 443756\n",
      "Data columns (total 5 columns):\n",
      " #   Column       Non-Null Count   Dtype \n",
      "---  ------       --------------   ----- \n",
      " 0   Question_ID  443757 non-null  int64 \n",
      " 1   Image_ID     443757 non-null  int64 \n",
      " 2   image_path   443757 non-null  object\n",
      " 3   Question     443757 non-null  object\n",
      " 4   Answer       443757 non-null  object\n",
      "dtypes: int64(2), object(3)\n",
      "memory usage: 16.9+ MB\n"
     ]
    }
   ],
   "source": [
    "training_data.info() # variables, non-null values, and datatypes of variables"
   ]
  },
  {
   "cell_type": "code",
   "execution_count": 33,
   "id": "ff5ec852",
   "metadata": {},
   "outputs": [
    {
     "name": "stdout",
     "output_type": "stream",
     "text": [
      "<class 'pandas.core.frame.DataFrame'>\n",
      "RangeIndex: 214354 entries, 0 to 214353\n",
      "Data columns (total 5 columns):\n",
      " #   Column       Non-Null Count   Dtype \n",
      "---  ------       --------------   ----- \n",
      " 0   Question_ID  214354 non-null  int64 \n",
      " 1   Image_ID     214354 non-null  int64 \n",
      " 2   image_path   214354 non-null  object\n",
      " 3   Question     214354 non-null  object\n",
      " 4   Answer       214354 non-null  object\n",
      "dtypes: int64(2), object(3)\n",
      "memory usage: 8.2+ MB\n"
     ]
    }
   ],
   "source": [
    "Validation_data.info()"
   ]
  },
  {
   "cell_type": "code",
   "execution_count": 34,
   "id": "bcbb2bfa",
   "metadata": {},
   "outputs": [
    {
     "name": "stdout",
     "output_type": "stream",
     "text": [
      "<class 'pandas.core.frame.DataFrame'>\n",
      "RangeIndex: 107394 entries, 0 to 107393\n",
      "Data columns (total 4 columns):\n",
      " #   Column       Non-Null Count   Dtype \n",
      "---  ------       --------------   ----- \n",
      " 0   Question_ID  107394 non-null  int64 \n",
      " 1   Image_ID     107394 non-null  int64 \n",
      " 2   image_path   107394 non-null  object\n",
      " 3   Question     107394 non-null  object\n",
      "dtypes: int64(2), object(2)\n",
      "memory usage: 3.3+ MB\n"
     ]
    }
   ],
   "source": [
    "test_data.info()"
   ]
  },
  {
   "cell_type": "code",
   "execution_count": 35,
   "id": "24cb4c23",
   "metadata": {},
   "outputs": [
    {
     "data": {
      "text/plain": [
       "Question_ID    0\n",
       "Image_ID       0\n",
       "image_path     0\n",
       "Question       0\n",
       "Answer         0\n",
       "dtype: int64"
      ]
     },
     "execution_count": 35,
     "metadata": {},
     "output_type": "execute_result"
    }
   ],
   "source": [
    "training_data.isnull().sum()"
   ]
  },
  {
   "cell_type": "code",
   "execution_count": 36,
   "id": "eb3c5f5b",
   "metadata": {},
   "outputs": [
    {
     "data": {
      "text/plain": [
       "Question_ID    0\n",
       "Image_ID       0\n",
       "image_path     0\n",
       "Question       0\n",
       "Answer         0\n",
       "dtype: int64"
      ]
     },
     "execution_count": 36,
     "metadata": {},
     "output_type": "execute_result"
    }
   ],
   "source": [
    "Validation_data.isnull().sum()"
   ]
  },
  {
   "cell_type": "code",
   "execution_count": 37,
   "id": "682f8567",
   "metadata": {},
   "outputs": [
    {
     "data": {
      "text/plain": [
       "Question_ID    0\n",
       "Image_ID       0\n",
       "image_path     0\n",
       "Question       0\n",
       "dtype: int64"
      ]
     },
     "execution_count": 37,
     "metadata": {},
     "output_type": "execute_result"
    }
   ],
   "source": [
    "test_data.isnull().sum()"
   ]
  },
  {
   "cell_type": "code",
   "execution_count": 38,
   "id": "745f6a97",
   "metadata": {},
   "outputs": [
    {
     "name": "stderr",
     "output_type": "stream",
     "text": [
      "100%|███████████████████████████████| 443757/443757 [00:01<00:00, 306827.54it/s]\n"
     ]
    },
    {
     "data": {
      "text/html": [
       "<div>\n",
       "<style scoped>\n",
       "    .dataframe tbody tr th:only-of-type {\n",
       "        vertical-align: middle;\n",
       "    }\n",
       "\n",
       "    .dataframe tbody tr th {\n",
       "        vertical-align: top;\n",
       "    }\n",
       "\n",
       "    .dataframe thead th {\n",
       "        text-align: right;\n",
       "    }\n",
       "</style>\n",
       "<table border=\"1\" class=\"dataframe\">\n",
       "  <thead>\n",
       "    <tr style=\"text-align: right;\">\n",
       "      <th></th>\n",
       "      <th>Question_ID</th>\n",
       "      <th>Image_ID</th>\n",
       "      <th>image_path</th>\n",
       "      <th>Question</th>\n",
       "      <th>Answer</th>\n",
       "    </tr>\n",
       "  </thead>\n",
       "  <tbody>\n",
       "    <tr>\n",
       "      <th>0</th>\n",
       "      <td>458752000</td>\n",
       "      <td>458752</td>\n",
       "      <td>train2014/COCO_train2014_000000458752.jpg</td>\n",
       "      <td>what is this photo taken looking through?</td>\n",
       "      <td>net</td>\n",
       "    </tr>\n",
       "    <tr>\n",
       "      <th>1</th>\n",
       "      <td>458752001</td>\n",
       "      <td>458752</td>\n",
       "      <td>train2014/COCO_train2014_000000458752.jpg</td>\n",
       "      <td>what position is this man playing?</td>\n",
       "      <td>pitcher</td>\n",
       "    </tr>\n",
       "    <tr>\n",
       "      <th>2</th>\n",
       "      <td>458752002</td>\n",
       "      <td>458752</td>\n",
       "      <td>train2014/COCO_train2014_000000458752.jpg</td>\n",
       "      <td>what color is the players shirt?</td>\n",
       "      <td>orange</td>\n",
       "    </tr>\n",
       "    <tr>\n",
       "      <th>3</th>\n",
       "      <td>458752003</td>\n",
       "      <td>458752</td>\n",
       "      <td>train2014/COCO_train2014_000000458752.jpg</td>\n",
       "      <td>is this man a professional baseball player?</td>\n",
       "      <td>yes</td>\n",
       "    </tr>\n",
       "    <tr>\n",
       "      <th>4</th>\n",
       "      <td>262146000</td>\n",
       "      <td>262146</td>\n",
       "      <td>train2014/COCO_train2014_000000262146.jpg</td>\n",
       "      <td>what color is the snow?</td>\n",
       "      <td>white</td>\n",
       "    </tr>\n",
       "  </tbody>\n",
       "</table>\n",
       "</div>"
      ],
      "text/plain": [
       "   Question_ID  Image_ID                                 image_path  \\\n",
       "0    458752000    458752  train2014/COCO_train2014_000000458752.jpg   \n",
       "1    458752001    458752  train2014/COCO_train2014_000000458752.jpg   \n",
       "2    458752002    458752  train2014/COCO_train2014_000000458752.jpg   \n",
       "3    458752003    458752  train2014/COCO_train2014_000000458752.jpg   \n",
       "4    262146000    262146  train2014/COCO_train2014_000000262146.jpg   \n",
       "\n",
       "                                      Question   Answer  \n",
       "0    what is this photo taken looking through?      net  \n",
       "1           what position is this man playing?  pitcher  \n",
       "2             what color is the players shirt?   orange  \n",
       "3  is this man a professional baseball player?      yes  \n",
       "4                      what color is the snow?    white  "
      ]
     },
     "execution_count": 38,
     "metadata": {},
     "output_type": "execute_result"
    }
   ],
   "source": [
    "import re\n",
    "\n",
    "prepro_train_questions = []\n",
    "prepro_val_questions = []\n",
    "prepro_test_questions = []\n",
    "\n",
    "def decontracted(phrase):\n",
    " \n",
    "    phrase = re.sub(r\"won't\", \"will not\", phrase)\n",
    "    phrase = re.sub(r\"can\\'t\", \"can not\", phrase)\n",
    "    phrase = re.sub(r\"n\\'t\", \" not\", phrase)\n",
    "    phrase = re.sub(r\"\\'re\", \" are\", phrase)\n",
    "    phrase = re.sub(r\"\\'s\", \" is\", phrase)\n",
    "    phrase = re.sub(r\"\\'d\", \" would\", phrase)\n",
    "    phrase = re.sub(r\"\\'ll\", \" will\", phrase)\n",
    "    phrase = re.sub(r\"\\'t\", \" not\", phrase)\n",
    "    phrase = re.sub(r\"\\'ve\", \" have\", phrase)\n",
    "    phrase = re.sub(r\"\\'m\", \" am\", phrase)\n",
    "    return phrase\n",
    "\n",
    "for question in tqdm(training_data['Question'].values):\n",
    "    training_que = decontracted(question) \n",
    "    prepro_train_questions.append(training_que.lower().strip())\n",
    "\n",
    "training_data['Question']=prepro_train_questions\n",
    "training_data.head(5)\n",
    "\n"
   ]
  },
  {
   "cell_type": "code",
   "execution_count": 39,
   "id": "5cf66c7c",
   "metadata": {},
   "outputs": [
    {
     "name": "stderr",
     "output_type": "stream",
     "text": [
      "100%|███████████████████████████████| 214354/214354 [00:00<00:00, 303395.40it/s]\n"
     ]
    },
    {
     "data": {
      "text/html": [
       "<div>\n",
       "<style scoped>\n",
       "    .dataframe tbody tr th:only-of-type {\n",
       "        vertical-align: middle;\n",
       "    }\n",
       "\n",
       "    .dataframe tbody tr th {\n",
       "        vertical-align: top;\n",
       "    }\n",
       "\n",
       "    .dataframe thead th {\n",
       "        text-align: right;\n",
       "    }\n",
       "</style>\n",
       "<table border=\"1\" class=\"dataframe\">\n",
       "  <thead>\n",
       "    <tr style=\"text-align: right;\">\n",
       "      <th></th>\n",
       "      <th>Question_ID</th>\n",
       "      <th>Image_ID</th>\n",
       "      <th>image_path</th>\n",
       "      <th>Question</th>\n",
       "      <th>Answer</th>\n",
       "    </tr>\n",
       "  </thead>\n",
       "  <tbody>\n",
       "    <tr>\n",
       "      <th>0</th>\n",
       "      <td>262148000</td>\n",
       "      <td>262148</td>\n",
       "      <td>val2014/COCO_val2014_000000262148.jpg</td>\n",
       "      <td>where is he looking?</td>\n",
       "      <td>down</td>\n",
       "    </tr>\n",
       "    <tr>\n",
       "      <th>1</th>\n",
       "      <td>262148001</td>\n",
       "      <td>262148</td>\n",
       "      <td>val2014/COCO_val2014_000000262148.jpg</td>\n",
       "      <td>what are the people in the background doing?</td>\n",
       "      <td>watching</td>\n",
       "    </tr>\n",
       "    <tr>\n",
       "      <th>2</th>\n",
       "      <td>262148002</td>\n",
       "      <td>262148</td>\n",
       "      <td>val2014/COCO_val2014_000000262148.jpg</td>\n",
       "      <td>what is he on top of?</td>\n",
       "      <td>picnic table</td>\n",
       "    </tr>\n",
       "    <tr>\n",
       "      <th>3</th>\n",
       "      <td>393225000</td>\n",
       "      <td>393225</td>\n",
       "      <td>val2014/COCO_val2014_000000393225.jpg</td>\n",
       "      <td>what website copyrighted the picture?</td>\n",
       "      <td>foodiebakercom</td>\n",
       "    </tr>\n",
       "    <tr>\n",
       "      <th>4</th>\n",
       "      <td>393225001</td>\n",
       "      <td>393225</td>\n",
       "      <td>val2014/COCO_val2014_000000393225.jpg</td>\n",
       "      <td>is this a creamy soup?</td>\n",
       "      <td>no</td>\n",
       "    </tr>\n",
       "  </tbody>\n",
       "</table>\n",
       "</div>"
      ],
      "text/plain": [
       "   Question_ID  Image_ID                             image_path  \\\n",
       "0    262148000    262148  val2014/COCO_val2014_000000262148.jpg   \n",
       "1    262148001    262148  val2014/COCO_val2014_000000262148.jpg   \n",
       "2    262148002    262148  val2014/COCO_val2014_000000262148.jpg   \n",
       "3    393225000    393225  val2014/COCO_val2014_000000393225.jpg   \n",
       "4    393225001    393225  val2014/COCO_val2014_000000393225.jpg   \n",
       "\n",
       "                                       Question          Answer  \n",
       "0                          where is he looking?            down  \n",
       "1  what are the people in the background doing?        watching  \n",
       "2                         what is he on top of?    picnic table  \n",
       "3         what website copyrighted the picture?  foodiebakercom  \n",
       "4                        is this a creamy soup?              no  "
      ]
     },
     "execution_count": 39,
     "metadata": {},
     "output_type": "execute_result"
    }
   ],
   "source": [
    "for question in tqdm(Validation_data['Question'].values):\n",
    "    Validation_que = decontracted(question) \n",
    "    prepro_val_questions.append(Validation_que.lower().strip())\n",
    "\n",
    "Validation_data['Question']=prepro_val_questions\n",
    "Validation_data.head(5)"
   ]
  },
  {
   "cell_type": "code",
   "execution_count": 40,
   "id": "0c9f6ff0",
   "metadata": {},
   "outputs": [
    {
     "name": "stderr",
     "output_type": "stream",
     "text": [
      "100%|███████████████████████████████| 107394/107394 [00:00<00:00, 296541.57it/s]\n"
     ]
    },
    {
     "data": {
      "text/html": [
       "<div>\n",
       "<style scoped>\n",
       "    .dataframe tbody tr th:only-of-type {\n",
       "        vertical-align: middle;\n",
       "    }\n",
       "\n",
       "    .dataframe tbody tr th {\n",
       "        vertical-align: top;\n",
       "    }\n",
       "\n",
       "    .dataframe thead th {\n",
       "        text-align: right;\n",
       "    }\n",
       "</style>\n",
       "<table border=\"1\" class=\"dataframe\">\n",
       "  <thead>\n",
       "    <tr style=\"text-align: right;\">\n",
       "      <th></th>\n",
       "      <th>Question_ID</th>\n",
       "      <th>Image_ID</th>\n",
       "      <th>image_path</th>\n",
       "      <th>Question</th>\n",
       "    </tr>\n",
       "  </thead>\n",
       "  <tbody>\n",
       "    <tr>\n",
       "      <th>0</th>\n",
       "      <td>262144005</td>\n",
       "      <td>262144</td>\n",
       "      <td>test2015/COCO_test2015_000000262144.jpg</td>\n",
       "      <td>what credit card company is on the banner in t...</td>\n",
       "    </tr>\n",
       "    <tr>\n",
       "      <th>1</th>\n",
       "      <td>262144003</td>\n",
       "      <td>262144</td>\n",
       "      <td>test2015/COCO_test2015_000000262144.jpg</td>\n",
       "      <td>is the pitcher wearing a hat?</td>\n",
       "    </tr>\n",
       "    <tr>\n",
       "      <th>2</th>\n",
       "      <td>262144000</td>\n",
       "      <td>262144</td>\n",
       "      <td>test2015/COCO_test2015_000000262144.jpg</td>\n",
       "      <td>is the ball flying towards the batter?</td>\n",
       "    </tr>\n",
       "    <tr>\n",
       "      <th>3</th>\n",
       "      <td>524289001</td>\n",
       "      <td>524289</td>\n",
       "      <td>test2015/COCO_test2015_000000524289.jpg</td>\n",
       "      <td>are the horses playing a game?</td>\n",
       "    </tr>\n",
       "    <tr>\n",
       "      <th>4</th>\n",
       "      <td>524289002</td>\n",
       "      <td>524289</td>\n",
       "      <td>test2015/COCO_test2015_000000524289.jpg</td>\n",
       "      <td>what is the color of water in the image?</td>\n",
       "    </tr>\n",
       "  </tbody>\n",
       "</table>\n",
       "</div>"
      ],
      "text/plain": [
       "   Question_ID  Image_ID                               image_path  \\\n",
       "0    262144005    262144  test2015/COCO_test2015_000000262144.jpg   \n",
       "1    262144003    262144  test2015/COCO_test2015_000000262144.jpg   \n",
       "2    262144000    262144  test2015/COCO_test2015_000000262144.jpg   \n",
       "3    524289001    524289  test2015/COCO_test2015_000000524289.jpg   \n",
       "4    524289002    524289  test2015/COCO_test2015_000000524289.jpg   \n",
       "\n",
       "                                            Question  \n",
       "0  what credit card company is on the banner in t...  \n",
       "1                      is the pitcher wearing a hat?  \n",
       "2             is the ball flying towards the batter?  \n",
       "3                     are the horses playing a game?  \n",
       "4           what is the color of water in the image?  "
      ]
     },
     "execution_count": 40,
     "metadata": {},
     "output_type": "execute_result"
    }
   ],
   "source": [
    "for question in tqdm(test_data['Question'].values):\n",
    "    test_que = decontracted(question) \n",
    "    prepro_test_questions.append(test_que.lower().strip())\n",
    "\n",
    "test_data['Question']=prepro_test_questions\n",
    "test_data.head(5)"
   ]
  },
  {
   "cell_type": "code",
   "execution_count": 41,
   "id": "4ede7034",
   "metadata": {},
   "outputs": [
    {
     "data": {
      "text/plain": [
       "(107394, 4)"
      ]
     },
     "execution_count": 41,
     "metadata": {},
     "output_type": "execute_result"
    }
   ],
   "source": [
    "test_data.shape"
   ]
  },
  {
   "cell_type": "code",
   "execution_count": 42,
   "id": "9ea2437b",
   "metadata": {},
   "outputs": [
    {
     "name": "stdout",
     "output_type": "stream",
     "text": [
      "Total no of binary(yes/no)answers  : 167494\n",
      "Total no of multiple answers        : 276263\n"
     ]
    }
   ],
   "source": [
    "train_an1 = training_data[training_data['Answer']=='yes']['Answer'].count()+training_data[training_data['Answer']=='no']['Answer'].count()\n",
    "train_an2 = len(training_data) - train_an1\n",
    "print(\"Total no of binary(yes/no)answers  :\",train_an1)\n",
    "print(\"Total no of multiple answers        :\",train_an2)\n"
   ]
  },
  {
   "cell_type": "code",
   "execution_count": 43,
   "id": "02ff120a",
   "metadata": {},
   "outputs": [
    {
     "name": "stdout",
     "output_type": "stream",
     "text": [
      "Total no of binary(yes/no)answers  : 80810\n",
      "Total no of multiple answers        : 133544\n"
     ]
    }
   ],
   "source": [
    "Val_an1 = Validation_data[Validation_data['Answer']=='yes']['Answer'].count()+Validation_data[Validation_data['Answer']=='no']['Answer'].count()\n",
    "Val_an2 = len(Validation_data) - Val_an1\n",
    "print(\"Total no of binary(yes/no)answers  :\",Val_an1)\n",
    "print(\"Total no of multiple answers        :\",Val_an2)"
   ]
  },
  {
   "cell_type": "code",
   "execution_count": 44,
   "id": "05e9ede9",
   "metadata": {},
   "outputs": [
    {
     "data": {
      "image/png": "[encoded data removed]",
      "text/plain": [
       "<Figure size 1000x500 with 1 Axes>"
      ]
     },
     "metadata": {},
     "output_type": "display_data"
    }
   ],
   "source": [
    "train_word = training_data['Question'].str.split().apply(len).value_counts()\n",
    "train_dic = dict(train_word)\n",
    "train_dic = dict(sorted(train_dic.items(), key=lambda kv: kv[1],reverse=True))\n",
    "\n",
    "\n",
    "train_ind = np.arange(len(train_dic))\n",
    "c = 'Red'\n",
    "plt.figure(figsize=(10,5))\n",
    "p1 = plt.bar(train_ind, list(train_dic.values()),color = c)\n",
    "\n",
    "plt.ylabel('Number of Questions')\n",
    "plt.xlabel('Number of word in Questions')\n",
    "plt.title('Words for each Question in (training dataset)')\n",
    "plt.xticks(train_ind, list(train_dic.keys()))\n",
    "plt.show()"
   ]
  },
  {
   "cell_type": "code",
   "execution_count": 45,
   "id": "5451a410",
   "metadata": {},
   "outputs": [
    {
     "data": {
      "image/png": "[encoded data removed]",
      "text/plain": [
       "<Figure size 1000x500 with 1 Axes>"
      ]
     },
     "metadata": {},
     "output_type": "display_data"
    }
   ],
   "source": [
    "train_word_ans = training_data['Answer'].value_counts()[0:10]\n",
    "train_dic_ans = dict(train_word_ans)\n",
    "train_dic_ans = dict(sorted(train_dic_ans.items(), key=lambda kv: kv[1],reverse=True))\n",
    "\n",
    "\n",
    "train_ind_ans = np.arange(len(train_dic_ans))\n",
    "plt.figure(figsize=(10,5))\n",
    "c = 'Red'\n",
    "a1 = plt.bar(train_ind_ans, list(train_dic_ans.values()),color = c)\n",
    "\n",
    "plt.ylabel('Count of Answers')\n",
    "plt.xlabel('Top 10 Answers')\n",
    "plt.title('Count of top 10 Answers in (Training Dataset)')\n",
    "plt.xticks(train_ind_ans, list(train_dic_ans.keys()))\n",
    "plt.show()"
   ]
  },
  {
   "cell_type": "code",
   "execution_count": 46,
   "id": "58d61e61",
   "metadata": {},
   "outputs": [
    {
     "data": {
      "image/png": "[encoded data removed]",
      "text/plain": [
       "<Figure size 1000x500 with 1 Axes>"
      ]
     },
     "metadata": {},
     "output_type": "display_data"
    }
   ],
   "source": [
    "val_count = Validation_data['Question'].str.split().apply(len).value_counts()\n",
    "val_dict = dict(val_count)\n",
    "val_dict = dict(sorted(val_dict.items(), key=lambda kv: kv[1],reverse=True))\n",
    "\n",
    "\n",
    "val_ind = np.arange(len(val_dict))\n",
    "c = 'Black'\n",
    "plt.figure(figsize=(10,5))\n",
    "p2 = plt.bar(val_ind, list(val_dict.values()),color = c)\n",
    "\n",
    "plt.ylabel('Number of Questions')\n",
    "plt.xlabel('Number of word in Questions')\n",
    "plt.title('Words for each Question in (Validation dataset)')\n",
    "plt.xticks(val_ind, list(val_dict.keys()))\n",
    "plt.show()"
   ]
  },
  {
   "cell_type": "code",
   "execution_count": 47,
   "id": "b14e85af",
   "metadata": {},
   "outputs": [
    {
     "data": {
      "image/png": "[encoded data removed]",
      "text/plain": [
       "<Figure size 1000x500 with 1 Axes>"
      ]
     },
     "metadata": {},
     "output_type": "display_data"
    }
   ],
   "source": [
    "Vald_word_ans = Validation_data['Answer'].value_counts()[0:10]\n",
    "Vald_dic_ans = dict(Vald_word_ans)\n",
    "Vald_dic_ans = dict(sorted(Vald_dic_ans.items(), key=lambda kv: kv[1],reverse=True))\n",
    "\n",
    "Vald_ind_ans = np.arange(len(Vald_dic_ans))\n",
    "plt.figure(figsize=(10,5))\n",
    "c = 'Black'\n",
    "a2 = plt.bar(Vald_ind_ans, list(Vald_dic_ans.values()),color = c)\n",
    "\n",
    "plt.ylabel('Count of Answers')\n",
    "plt.xlabel('Top 10 Answers')\n",
    "plt.title('Count of top 10 Answers in (Validation Dataset)')\n",
    "plt.xticks(Vald_ind_ans, list(Vald_dic_ans.keys()))\n",
    "plt.show()"
   ]
  },
  {
   "cell_type": "code",
   "execution_count": 48,
   "id": "e746c151",
   "metadata": {},
   "outputs": [
    {
     "data": {
      "image/png": "[encoded data removed]",
      "text/plain": [
       "<Figure size 1000x500 with 1 Axes>"
      ]
     },
     "metadata": {},
     "output_type": "display_data"
    }
   ],
   "source": [
    "test_count = test_data['Question'].str.split().apply(len).value_counts()\n",
    "test_dict = dict(test_count)\n",
    "test_dict = dict(sorted(test_dict.items(), key=lambda kv: kv[1],reverse=True))\n",
    "\n",
    "\n",
    "test_ind = np.arange(len(test_dict))\n",
    "c = 'Green'\n",
    "plt.figure(figsize=(10,5))\n",
    "p3 = plt.bar(test_ind, list(test_dict.values()),color = c)\n",
    "\n",
    "plt.ylabel('Number of Questions')\n",
    "plt.xlabel('Number of word in Questions')\n",
    "plt.title('Words for each question(Test dataset)')\n",
    "plt.xticks(test_ind, list(test_dict.keys()))\n",
    "plt.show()"
   ]
  },
  {
   "cell_type": "markdown",
   "id": "b4c60db7",
   "metadata": {},
   "source": [
    "Observations:\n",
    "\n",
    "Maximum length of question is 22,23,21 words respectively in training,validation &test dataset."
   ]
  },
  {
   "cell_type": "code",
   "execution_count": 49,
   "id": "c060a7ab",
   "metadata": {},
   "outputs": [],
   "source": [
    "training_data.to_csv('train_vqa.csv')\n",
    "Validation_data.to_csv('validation_vqa.csv')\n",
    "test_data.to_csv('raw_test_vqa.csv')"
   ]
  }
 ],
 "metadata": {
  "kernelspec": {
   "display_name": "Python 3 (ipykernel)",
   "language": "python",
   "name": "python3"
  },
  "language_info": {
   "codemirror_mode": {
    "name": "ipython",
    "version": 3
   },
   "file_extension": ".py",
   "mimetype": "text/x-python",
   "name": "python",
   "nbconvert_exporter": "python",
   "pygments_lexer": "ipython3",
   "version": "3.11.2"
  }
 },
 "nbformat": 4,
 "nbformat_minor": 5
}
